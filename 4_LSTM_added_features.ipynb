{
 "cells": [
  {
   "cell_type": "code",
   "execution_count": 1,
   "metadata": {},
   "outputs": [
    {
     "name": "stderr",
     "output_type": "stream",
     "text": [
      "/Users/natacha/anaconda/lib/python3.5/site-packages/h5py/__init__.py:36: FutureWarning: Conversion of the second argument of issubdtype from `float` to `np.floating` is deprecated. In future, it will be treated as `np.float64 == np.dtype(float).type`.\n",
      "  from ._conv import register_converters as _register_converters\n",
      "Using TensorFlow backend.\n"
     ]
    }
   ],
   "source": [
    "% matplotlib inline\n",
    "\n",
    "from numpy import concatenate\n",
    "from pandas import read_csv\n",
    "from pandas import DataFrame\n",
    "from pandas import concat\n",
    "from matplotlib import pyplot\n",
    "from sklearn.preprocessing import MinMaxScaler\n",
    "from sklearn.metrics import mean_squared_error\n",
    "from keras.models import Sequential\n",
    "from keras.layers import Dense\n",
    "from keras.layers import LSTM\n",
    "import numpy as np\n",
    "\n",
    "\n",
    "from keras.regularizers import L1L2\n"
   ]
  },
  {
   "cell_type": "markdown",
   "metadata": {},
   "source": [
    "# Predict Friday's oil price"
   ]
  },
  {
   "cell_type": "markdown",
   "metadata": {},
   "source": [
    "- In this notebook we will try to add more features, in particular a lagged data of 10"
   ]
  },
  {
   "cell_type": "code",
   "execution_count": 2,
   "metadata": {},
   "outputs": [],
   "source": [
    "file='/Users/natacha/Downloads/OPEC-ORB_quanl.csv'\n",
    "#del(data_file)"
   ]
  },
  {
   "cell_type": "code",
   "execution_count": 3,
   "metadata": {},
   "outputs": [
    {
     "name": "stderr",
     "output_type": "stream",
     "text": [
      "/Users/natacha/anaconda/lib/python3.5/site-packages/pandas/core/series.py:3724: FutureWarning: from_csv is deprecated. Please use read_csv(...) instead. Note that some of the default arguments are different, so please refer to the documentation for from_csv when changing your function calls\n",
      "  infer_datetime_format=infer_datetime_format)\n"
     ]
    },
    {
     "data": {
      "image/png": "[encoded data removed]",
      "text/plain": [
       "<Figure size 432x288 with 1 Axes>"
      ]
     },
     "metadata": {},
     "output_type": "display_data"
    }
   ],
   "source": [
    "from pandas import Series\n",
    "from matplotlib import pyplot\n",
    "series = Series.from_csv(file, header=0)[::-1][91:]\n",
    "series.plot()\n",
    "pyplot.show()"
   ]
  },
  {
   "cell_type": "code",
   "execution_count": 4,
   "metadata": {},
   "outputs": [
    {
     "data": {
      "text/plain": [
       "Date\n",
       "2003-05-12    25.32\n",
       "2003-05-13    25.41\n",
       "2003-05-14    26.13\n",
       "2003-05-15    26.21\n",
       "2003-05-16    26.24\n",
       "Name: Value, dtype: float64"
      ]
     },
     "execution_count": 4,
     "metadata": {},
     "output_type": "execute_result"
    }
   ],
   "source": [
    "series.head()"
   ]
  },
  {
   "cell_type": "code",
   "execution_count": 5,
   "metadata": {},
   "outputs": [
    {
     "data": {
      "text/plain": [
       "Date\n",
       "2018-11-02    71.36\n",
       "2018-11-05    71.45\n",
       "2018-11-06    70.88\n",
       "2018-11-07    70.63\n",
       "2018-11-08    70.68\n",
       "Name: Value, dtype: float64"
      ]
     },
     "execution_count": 5,
     "metadata": {},
     "output_type": "execute_result"
    }
   ],
   "source": [
    "series.tail()"
   ]
  },
  {
   "cell_type": "code",
   "execution_count": 5,
   "metadata": {},
   "outputs": [
    {
     "data": {
      "text/plain": [
       "4002"
      ]
     },
     "execution_count": 5,
     "metadata": {},
     "output_type": "execute_result"
    }
   ],
   "source": [
    "len(series)"
   ]
  },
  {
   "cell_type": "code",
   "execution_count": 6,
   "metadata": {},
   "outputs": [],
   "source": [
    "n_t=800"
   ]
  },
  {
   "cell_type": "code",
   "execution_count": 7,
   "metadata": {},
   "outputs": [],
   "source": [
    "def timeseries_to_supervised(data, lag=1):\n",
    "    df = DataFrame(data)\n",
    "    columns = [df.shift(i) for i in range(1, lag+1)]\n",
    "    columns.append(df)\n",
    "    df = concat(columns, axis=1)\n",
    "    return df\n",
    " "
   ]
  },
  {
   "cell_type": "code",
   "execution_count": 209,
   "metadata": {},
   "outputs": [],
   "source": [
    "features=20\n",
    "supervised = timeseries_to_supervised(series.values, features)\n",
    "supervised_values = supervised.values[features:,:]"
   ]
  },
  {
   "cell_type": "code",
   "execution_count": 210,
   "metadata": {},
   "outputs": [],
   "source": [
    "train, test = supervised_values[0:-n_t, :], supervised_values[-n_t:, :]\n",
    "\n"
   ]
  },
  {
   "cell_type": "code",
   "execution_count": 175,
   "metadata": {},
   "outputs": [
    {
     "data": {
      "text/plain": [
       "Date\n",
       "2018-11-02    71.36\n",
       "2018-11-05    71.45\n",
       "2018-11-06    70.88\n",
       "2018-11-07    70.63\n",
       "2018-11-08    70.68\n",
       "Name: Value, dtype: float64"
      ]
     },
     "execution_count": 175,
     "metadata": {},
     "output_type": "execute_result"
    }
   ],
   "source": [
    "series.tail()"
   ]
  },
  {
   "cell_type": "code",
   "execution_count": 211,
   "metadata": {},
   "outputs": [],
   "source": [
    "def scale(train, test):\n",
    "    # fit scaler\n",
    "    scaler = MinMaxScaler(feature_range=(-1, 1))\n",
    "    scaler = scaler.fit(train)\n",
    "    # transform train\n",
    "    train = train.reshape(train.shape[0], train.shape[1])\n",
    "    train_scaled = scaler.transform(train)\n",
    "    # transform test\n",
    "    test = test.reshape(test.shape[0], test.shape[1])\n",
    "    test_scaled = scaler.transform(test)\n",
    "    return scaler, train_scaled, test_scaled\n",
    " "
   ]
  },
  {
   "cell_type": "code",
   "execution_count": 212,
   "metadata": {},
   "outputs": [],
   "source": [
    "scaler, train_scaled, test_scaled = scale(train, test)"
   ]
  },
  {
   "cell_type": "code",
   "execution_count": 214,
   "metadata": {},
   "outputs": [
    {
     "data": {
      "text/plain": [
       "array([-0.95720818, -0.96635321, -0.96721594, -0.96083168, -0.96065913,\n",
       "       -0.96738849, -0.97498059, -0.97118454, -0.97135709, -0.96462773,\n",
       "       -0.96497282, -0.97049435, -0.96859632, -0.9779139 , -0.97049435,\n",
       "       -0.97549823, -0.97601587, -0.97739626, -0.98981969, -0.99137262,\n",
       "       -0.95323958])"
      ]
     },
     "execution_count": 214,
     "metadata": {},
     "output_type": "execute_result"
    }
   ],
   "source": [
    "train_scaled[0]\n"
   ]
  },
  {
   "cell_type": "code",
   "execution_count": 215,
   "metadata": {},
   "outputs": [
    {
     "name": "stdout",
     "output_type": "stream",
     "text": [
      "Train on 3182 samples, validate on 800 samples\n",
      "Epoch 1/10\n",
      " - 2s - loss: 0.7590 - val_loss: 0.3990\n",
      "Epoch 2/10\n",
      " - 1s - loss: 0.2396 - val_loss: 0.1476\n",
      "Epoch 3/10\n",
      " - 1s - loss: 0.1012 - val_loss: 0.0861\n",
      "Epoch 4/10\n",
      " - 1s - loss: 0.0673 - val_loss: 0.0633\n",
      "Epoch 5/10\n",
      " - 1s - loss: 0.0542 - val_loss: 0.0554\n",
      "Epoch 6/10\n",
      " - 1s - loss: 0.0485 - val_loss: 0.0495\n",
      "Epoch 7/10\n",
      " - 1s - loss: 0.0440 - val_loss: 0.0449\n",
      "Epoch 8/10\n",
      " - 1s - loss: 0.0403 - val_loss: 0.0412\n",
      "Epoch 9/10\n",
      " - 1s - loss: 0.0374 - val_loss: 0.0383\n",
      "Epoch 10/10\n",
      " - 1s - loss: 0.0349 - val_loss: 0.0359\n"
     ]
    },
    {
     "data": {
      "image/png": "[encoded data removed]",
      "text/plain": [
       "<Figure size 432x288 with 1 Axes>"
      ]
     },
     "metadata": {},
     "output_type": "display_data"
    }
   ],
   "source": [
    "X, y = train_scaled[:, 0:-1], train_scaled[:, -1]\n",
    "test_X,test_y=test_scaled[:, 0:-1], test_scaled[:, -1]\n",
    "X = X.reshape(X.shape[0], 1, X.shape[1])\n",
    "test_X=test_X.reshape(test_X.shape[0], 1, test_X.shape[1])\n",
    "\n",
    "\n",
    "model = Sequential()\n",
    "model.add(LSTM(5, input_shape=(X.shape[1], X.shape[2]),\n",
    "              bias_regularizer= L1L2(l1=0.01, l2=0.01) ,\n",
    "                   kernel_regularizer=L1L2(l1=0.01, l2=0.01)))\n",
    "model.add(Dense(1))\n",
    "model.compile(loss='mean_squared_error', optimizer='adam')\n",
    "\n",
    "# Fitting the model\n",
    "history = model.fit(X, y,\n",
    "                    epochs=10,\n",
    "                    batch_size=10, \n",
    "                    validation_data=(test_X, test_y), \n",
    "                    verbose=2, \n",
    "                    shuffle=False)\n",
    "# Plotting the training progression\n",
    "pyplot.plot(history.history['loss'], label='train')\n",
    "pyplot.plot(history.history['val_loss'], label='test')\n",
    "pyplot.legend()\n",
    "pyplot.xlabel(\"Epoch\")\n",
    "pyplot.ylabel(\"Loss\")\n",
    "pyplot.show()"
   ]
  },
  {
   "cell_type": "code",
   "execution_count": 184,
   "metadata": {},
   "outputs": [],
   "source": [
    "X, y = train_scaled[:, 0:-1], train_scaled[:, -1]\n",
    "test_X,test_y=test_scaled[:, 0:-1], test_scaled[:, -1]\n",
    "X = X.reshape(X.shape[0], 1, X.shape[1])\n",
    "test_X=test_X.reshape(test_X.shape[0], 1, test_X.shape[1])"
   ]
  },
  {
   "cell_type": "code",
   "execution_count": 216,
   "metadata": {},
   "outputs": [],
   "source": [
    "yhat = model.predict(test_X)\n",
    "test_X = test_X.reshape((test_X.shape[0], test_X.shape[2]))\n",
    "inv_yhat = concatenate((test_X[:, 0:], yhat), axis=1)\n",
    "inv_yhat = scaler.inverse_transform(inv_yhat) \n",
    "inv_yhat = inv_yhat[:, features]\n",
    "test_y = test_y.reshape((len(test_y), 1))\n",
    "inv_y = concatenate((test_X[:, 0:], test_y), axis=1) \n",
    "inv_y = scaler.inverse_transform(inv_y)\n",
    "inv_y = inv_y[:, features]\n",
    "rmse = np.sqrt(mean_squared_error(inv_y, inv_yhat)) "
   ]
  },
  {
   "cell_type": "code",
   "execution_count": 217,
   "metadata": {},
   "outputs": [
    {
     "data": {
      "image/png": "[encoded data removed]",
      "text/plain": [
       "<Figure size 432x288 with 1 Axes>"
      ]
     },
     "metadata": {},
     "output_type": "display_data"
    }
   ],
   "source": [
    "pyplot.plot(inv_y, label = 'Actual')\n",
    "pyplot.plot(inv_yhat, label = 'Predicted')\n",
    "pyplot.legend()\n",
    "pyplot.show()"
   ]
  },
  {
   "cell_type": "markdown",
   "metadata": {},
   "source": [
    "- Cool Discovery: More features act as a bias in our model. It is smoothing out the predictions! =)"
   ]
  },
  {
   "cell_type": "code",
   "execution_count": 221,
   "metadata": {},
   "outputs": [],
   "source": [
    "\n",
    "test_X,test_y=test_scaled[:, 0:-1], test_scaled[:, -1]\n",
    "\n",
    "test_X=test_X.reshape(test_X.shape[0], 1, test_X.shape[1])"
   ]
  },
  {
   "cell_type": "code",
   "execution_count": 218,
   "metadata": {},
   "outputs": [],
   "source": [
    "def prediction_array(a):\n",
    "    aa=model.predict(np.array([a]))\n",
    "    \n",
    "    #eliminates first element\n",
    "    #a[:,1:]\n",
    "    #appends a number at the end and protects the format\n",
    "    b=np.array([np.append(a[:,1:],aa)])\n",
    "    \n",
    "    return b"
   ]
  },
  {
   "cell_type": "code",
   "execution_count": 219,
   "metadata": {},
   "outputs": [],
   "source": [
    "def rec_pre(a,n):\n",
    "    if n==0:\n",
    "        return prediction_array(a)\n",
    "    else:\n",
    "        return rec_pre(prediction_array(a),n-1)\n",
    " "
   ]
  },
  {
   "cell_type": "markdown",
   "metadata": {},
   "source": [
    "- To make predictions we need to move foward our model to the future 6 days.\n",
    "- We already know this won't be a good prediction since our model only knows the day before"
   ]
  },
  {
   "cell_type": "code",
   "execution_count": 222,
   "metadata": {},
   "outputs": [],
   "source": [
    "x_p=rec_pre(test_X[-1],5)\n",
    "y_p=rec_pre(test_X[-1],6)"
   ]
  },
  {
   "cell_type": "code",
   "execution_count": 224,
   "metadata": {},
   "outputs": [],
   "source": [
    "#need to append the last step with the prediction in order to invert scaler\n",
    "pre=np.array([np.append(x_p[:,0],y_p)])\n",
    "inv_pre=scaler.inverse_transform(pre)"
   ]
  },
  {
   "cell_type": "code",
   "execution_count": 225,
   "metadata": {},
   "outputs": [
    {
     "name": "stdout",
     "output_type": "stream",
     "text": [
      "The Friday's price of oil is USA 75.70351707875727\n"
     ]
    }
   ],
   "source": [
    "print(\"The Friday's price of oil is USA {}\".format(inv_pre[:,-1][0]))"
   ]
  },
  {
   "cell_type": "code",
   "execution_count": null,
   "metadata": {},
   "outputs": [],
   "source": []
  }
 ],
 "metadata": {
  "anaconda-cloud": {},
  "kernelspec": {
   "display_name": "Python [Root]",
   "language": "python",
   "name": "Python [Root]"
  },
  "language_info": {
   "codemirror_mode": {
    "name": "ipython",
    "version": 3
   },
   "file_extension": ".py",
   "mimetype": "text/x-python",
   "name": "python",
   "nbconvert_exporter": "python",
   "pygments_lexer": "ipython3",
   "version": "3.5.5"
  }
 },
 "nbformat": 4,
 "nbformat_minor": 2
}
